{
 "cells": [
  {
   "cell_type": "code",
   "execution_count": 1,
   "id": "74eb2cef",
   "metadata": {},
   "outputs": [],
   "source": [
    "import sympy as smp\n",
    "import numpy as np\n",
    "x = smp.symbols(\"x\")"
   ]
  },
  {
   "cell_type": "code",
   "execution_count": 2,
   "id": "54304918",
   "metadata": {},
   "outputs": [],
   "source": [
    "import math"
   ]
  },
  {
   "cell_type": "code",
   "execution_count": 3,
   "id": "9a94e29b",
   "metadata": {},
   "outputs": [],
   "source": [
    "expr = (3*x + 2)**-(1/2)"
   ]
  },
  {
   "cell_type": "code",
   "execution_count": 4,
   "id": "6a03c639",
   "metadata": {},
   "outputs": [
    {
     "data": {
      "text/latex": [
       "$\\displaystyle \\left(3 x + 2\\right)^{-0.5}$"
      ],
      "text/plain": [
       "(3*x + 2)**(-0.5)"
      ]
     },
     "execution_count": 4,
     "metadata": {},
     "output_type": "execute_result"
    }
   ],
   "source": [
    "expr"
   ]
  },
  {
   "cell_type": "code",
   "execution_count": 5,
   "id": "d46236d5",
   "metadata": {},
   "outputs": [],
   "source": [
    "expr = smp.sqrt(8)"
   ]
  },
  {
   "cell_type": "code",
   "execution_count": 6,
   "id": "98edb2a0",
   "metadata": {},
   "outputs": [
    {
     "data": {
      "text/latex": [
       "$\\displaystyle 2.82842712474619$"
      ],
      "text/plain": [
       "2.82842712474619"
      ]
     },
     "execution_count": 6,
     "metadata": {},
     "output_type": "execute_result"
    }
   ],
   "source": [
    "expr.evalf()"
   ]
  },
  {
   "cell_type": "code",
   "execution_count": 7,
   "id": "98972737",
   "metadata": {},
   "outputs": [
    {
     "data": {
      "text/latex": [
       "$\\displaystyle \\left(x + 2\\right)^{-0.5}$"
      ],
      "text/plain": [
       "(x + 2)**(-0.5)"
      ]
     },
     "execution_count": 7,
     "metadata": {},
     "output_type": "execute_result"
    }
   ],
   "source": [
    "smp.expand((x + 2)**-(1/2))"
   ]
  },
  {
   "cell_type": "code",
   "execution_count": 8,
   "id": "c46c2976",
   "metadata": {},
   "outputs": [
    {
     "data": {
      "text/plain": [
       "'Mul(Integer(2), Pow(Integer(2), Rational(1, 2)))'"
      ]
     },
     "execution_count": 8,
     "metadata": {},
     "output_type": "execute_result"
    }
   ],
   "source": [
    "smp.srepr(expr)"
   ]
  },
  {
   "cell_type": "code",
   "execution_count": 9,
   "id": "eb8a23ea",
   "metadata": {},
   "outputs": [],
   "source": [
    "n = 0.5"
   ]
  },
  {
   "cell_type": "code",
   "execution_count": 10,
   "id": "0f3d7578",
   "metadata": {},
   "outputs": [],
   "source": [
    "series = 1 + n*x + ((n)*(n-1)/math.factorial(2))*(x**2) + ((n)*(n-1)*(n-2)/math.factorial(3))*(x**3)"
   ]
  },
  {
   "cell_type": "code",
   "execution_count": 11,
   "id": "72961608",
   "metadata": {},
   "outputs": [
    {
     "data": {
      "text/latex": [
       "$\\displaystyle \\frac{x^{3}}{16} - \\frac{x^{2}}{8} + \\frac{x}{2} + 1$"
      ],
      "text/plain": [
       "x**3/16 - x**2/8 + x/2 + 1"
      ]
     },
     "execution_count": 11,
     "metadata": {},
     "output_type": "execute_result"
    }
   ],
   "source": [
    "smp.nsimplify(series)"
   ]
  },
  {
   "cell_type": "code",
   "execution_count": 12,
   "id": "c4bc2d26",
   "metadata": {},
   "outputs": [
    {
     "data": {
      "text/latex": [
       "$\\displaystyle 1.0049875625$"
      ],
      "text/plain": [
       "1.00498756250000"
      ]
     },
     "execution_count": 12,
     "metadata": {},
     "output_type": "execute_result"
    }
   ],
   "source": [
    "series.subs(x,0.01)"
   ]
  },
  {
   "cell_type": "code",
   "execution_count": 13,
   "id": "b71bcddd",
   "metadata": {},
   "outputs": [
    {
     "data": {
      "text/plain": [
       "1.004987562112089"
      ]
     },
     "execution_count": 13,
     "metadata": {},
     "output_type": "execute_result"
    }
   ],
   "source": [
    "math.sqrt(1.01)"
   ]
  },
  {
   "cell_type": "code",
   "execution_count": 14,
   "id": "6c689482",
   "metadata": {},
   "outputs": [],
   "source": [
    "a = 3"
   ]
  },
  {
   "cell_type": "code",
   "execution_count": 15,
   "id": "723559f6",
   "metadata": {},
   "outputs": [],
   "source": [
    "b = a + 1"
   ]
  },
  {
   "cell_type": "code",
   "execution_count": 16,
   "id": "49cd8ed0",
   "metadata": {},
   "outputs": [],
   "source": [
    "a = 4"
   ]
  },
  {
   "cell_type": "code",
   "execution_count": 17,
   "id": "b2f95fae",
   "metadata": {},
   "outputs": [
    {
     "data": {
      "text/plain": [
       "4"
      ]
     },
     "execution_count": 17,
     "metadata": {},
     "output_type": "execute_result"
    }
   ],
   "source": [
    "b"
   ]
  },
  {
   "cell_type": "code",
   "execution_count": 18,
   "id": "14999bdd",
   "metadata": {},
   "outputs": [
    {
     "name": "stdout",
     "output_type": "stream",
     "text": [
      "0\n",
      "1\n",
      "2\n",
      "3\n"
     ]
    }
   ],
   "source": [
    "for i in range(4):\n",
    "    print(i)"
   ]
  },
  {
   "cell_type": "code",
   "execution_count": 19,
   "id": "aec506ea",
   "metadata": {},
   "outputs": [
    {
     "data": {
      "text/plain": [
       "1"
      ]
     },
     "execution_count": 19,
     "metadata": {},
     "output_type": "execute_result"
    }
   ],
   "source": [
    "math.factorial(0)"
   ]
  },
  {
   "cell_type": "code",
   "execution_count": 95,
   "id": "c845c480",
   "metadata": {},
   "outputs": [],
   "source": [
    "class Generator:\n",
    "    def __init__(self,*args,**kwargs):\n",
    "        \"\"\"\n",
    "        Initialize the generator function for x\n",
    "        Parameters:\n",
    "            x: A Symbol object for the x variable\n",
    "            n[int]: Exponent of the expansion\n",
    "            a: The a term in (a + bx)^n\n",
    "            b: The b term in (a + bx)^n\n",
    "            terms: The number of terms to expand until\n",
    "        \"\"\"\n",
    "        self.x = kwargs.get(\"x\")\n",
    "        self.n = kwargs.get(\"n\")\n",
    "        self.a = kwargs.get(\"a\")\n",
    "        self.b_original = kwargs.get(\"b\")\n",
    "        self.b = kwargs.get(\"b\") / self.a\n",
    "        print(self.b)\n",
    "        \n",
    "        \n",
    "        \n",
    "        self.terms = kwargs.get(\"terms\")\n",
    "    \n",
    "    def expand(self):\n",
    "        if (n <= 0) or (type(n) != int):\n",
    "            raise ValueError(\"n must be a positive integer\")\n",
    "        else:\n",
    "            return smp.expand(a + b*x)**n\n",
    "            \n",
    "    \n",
    "class BinomialGenerator(Generator):\n",
    "    def __init__(self,*args,**kwargs):\n",
    "        #Call the parents init function\n",
    "        super().__init__(*args,**kwargs)\n",
    "        self._series = self.generate_series()\n",
    "        \n",
    "    def generate_series(self):\n",
    "        #Declare a variable to store the finished series\n",
    "        series = 0\n",
    "        \n",
    "        for i in range(self.terms):\n",
    "            #Add the new term into the series\n",
    "            series += self.calculate_current_term(i)\n",
    "        #multiply the new series by a^n:\n",
    "        series *= (self.a**self.n)\n",
    "        return series\n",
    "     \n",
    "    @property\n",
    "    def binomial_series(self):\n",
    "        \"\"\"\n",
    "        Generate a binomial series expansion with a certain amount of terms for (a + bx)^n where n is negative or a fraction\n",
    "        \"\"\"\n",
    "        return self._series\n",
    "    \n",
    "    \n",
    "    def calculate_current_term(self,i):\n",
    "        return self.generate_numerator(i)/self.generate_denominator(i)\n",
    "    \n",
    "    def generate_numerator(self,i):\n",
    "        \"\"\"\n",
    "        Generate the numerator for the ith term of an expansion\n",
    "        \"\"\"\n",
    "        no_terms_in_numerator = i\n",
    "        \n",
    "        if i == 0:\n",
    "            return 1\n",
    "        elif i == 1:\n",
    "            return self.b * self.n * self.x\n",
    "        else:\n",
    "            #Generate the numerator\n",
    "            temp_num = 1\n",
    "            \n",
    "            for j in range(i):\n",
    "                #Keep multiplying terms of (n - i) until you reach the limit\n",
    "                temp_num *= (self.n - j)\n",
    "            temp_num *= (self.x ** i) * (self.b ** i)\n",
    "            return temp_num\n",
    "    \n",
    "    @staticmethod\n",
    "    def generate_denominator(i):\n",
    "        \"\"\"\n",
    "        Generate the denominator for the ith term of an expansion\n",
    "        \"\"\"\n",
    "        return math.factorial(i)\n",
    "    \n",
    "    def calculate_validity_range(self):\n",
    "        \"\"\"\n",
    "        Returns the range of validity of a binomial expansion\n",
    "        \"\"\"\n",
    "        if self.b.is_integer() or (type(self.b_original) == int and a == 1):\n",
    "            #If b/a is an integer or a = 1:\n",
    "            self.validity_range = f\"|x| < 1/{abs(self.b)}\"\n",
    "            return f\"|x| < 1/{abs(self.b)}\"\n",
    "        else:\n",
    "            #b/a is not an integer:\n",
    "            self.validity_range = f\"|x| < {abs(1/self.b)}\"\n",
    "            return f\"|x| < {abs(1/self.b)}\"\n",
    "    \n",
    "    @staticmethod\n",
    "    def solve(exp):\n",
    "        return smp.solve(exp)\n",
    "    \n",
    "    @staticmethod\n",
    "    def find_validity_range(validity_range):\n",
    "        return float(validity_range.split(\"< \")[1])\n",
    "        \n",
    "    def approximate_num(self):\n",
    "        \"\"\"\n",
    "        Prompts the user to approximate a number with their binomial expansion.\n",
    "        \"\"\"\n",
    "        import random\n",
    "        \n",
    "        #Choose from 2 types of questions - approximate a value close to the expression or estimate a value far from the expression\n",
    "        q_type = random.choice([\"close approx\"])\n",
    "        validity_range = self.find_validity_range(self.calculate_validity_range())\n",
    "        \n",
    "        if q_type == \"close approx\":\n",
    "            delta_target = round(random.uniform(-1*validity_range,validity_range),2)\n",
    "            target = self.a + delta_target\n",
    "            \n",
    "            exp = self.a + self.b_original * self.x - target #a + bx = target, so a - target + bx = 0\n",
    "            x_value = self.solve(exp)[0] #Solve a - target + bx = 0\n",
    "            \n",
    "            #after we have solved the equation, find the approximation to the target by \n",
    "            #subsittuting in the x_value we found into the binomial series\n",
    "            series = self.binomial_series\n",
    "            ans = series.subs(x,x_value)\n",
    "            \n",
    "            #calculate the actual answer\n",
    "            real_ans = target ** self.n\n",
    "            \n",
    "            #prompt the user for an answer\n",
    "            print(\"Q. Find a binomial series approximation for:  \")\n",
    "            display((self.a + self.b_original*self.x)**self.n)\n",
    "            print(\"and use it to approximate (to 3 d.p): \")\n",
    "            display(smp.Pow(target,self.n,evaluate=False))\n",
    "            \n",
    "            user_ans = input(\"Type your answer: \")\n",
    "            if(user_ans == round(ans,3)):\n",
    "                #Correct\n",
    "                print(f\"Your answer was correct! Well done! The actual answer calculated is {real_ans} and the answer approximated by the program is {ans}\")\n",
    "            else:\n",
    "                #Incorrect\n",
    "                print(f\"Your answer was incorrect! The actual answer calculated is {real_ans} and the answer approximated by the program is {ans}\")\n",
    "            \n",
    "            \n",
    "            \n",
    "    "
   ]
  },
  {
   "cell_type": "code",
   "execution_count": 96,
   "id": "ebf3b66d",
   "metadata": {},
   "outputs": [
    {
     "name": "stdout",
     "output_type": "stream",
     "text": [
      "⌠           \n",
      "⎮     ___   \n",
      "⎮    ╱ 1    \n",
      "⎮   ╱  ─  dx\n",
      "⎮ ╲╱   x    \n",
      "⌡           \n"
     ]
    }
   ],
   "source": [
    "smp.pprint(smp.Integral(smp.sqrt(1/x),x))"
   ]
  },
  {
   "cell_type": "code",
   "execution_count": 97,
   "id": "2ea3ba55",
   "metadata": {},
   "outputs": [],
   "source": [
    "from IPython.display import display"
   ]
  },
  {
   "cell_type": "code",
   "execution_count": 98,
   "id": "a807053a",
   "metadata": {},
   "outputs": [
    {
     "data": {
      "text/latex": [
       "$\\displaystyle \\sqrt{\\frac{1}{x}}$"
      ],
      "text/plain": [
       "sqrt(1/x)"
      ]
     },
     "metadata": {},
     "output_type": "display_data"
    }
   ],
   "source": [
    "display(smp.sqrt(1/x))"
   ]
  },
  {
   "cell_type": "code",
   "execution_count": 99,
   "id": "5adbee73",
   "metadata": {},
   "outputs": [
    {
     "name": "stdout",
     "output_type": "stream",
     "text": [
      "0.5\n"
     ]
    }
   ],
   "source": [
    "generator = BinomialGenerator(x=x,n=0.5,a=2,b=1,terms=4)"
   ]
  },
  {
   "cell_type": "code",
   "execution_count": 100,
   "id": "4308d671",
   "metadata": {},
   "outputs": [
    {
     "name": "stdout",
     "output_type": "stream",
     "text": [
      "Q. Find a binomial series approximation for:  \n"
     ]
    },
    {
     "data": {
      "text/latex": [
       "$\\displaystyle \\left(x + 2\\right)^{0.5}$"
      ],
      "text/plain": [
       "(x + 2)**0.5"
      ]
     },
     "metadata": {},
     "output_type": "display_data"
    },
    {
     "name": "stdout",
     "output_type": "stream",
     "text": [
      "and use it to approximate (to 3 d.p): \n"
     ]
    },
    {
     "data": {
      "text/latex": [
       "$\\displaystyle 2.65^{0.5}$"
      ],
      "text/plain": [
       "2.65**0.5"
      ]
     },
     "metadata": {},
     "output_type": "display_data"
    },
    {
     "name": "stdout",
     "output_type": "stream",
     "text": [
      "Type your answer: 345\n",
      "Your answer was incorrect! The actual answer calculated is 1.6278820596099706 and the answer approximated by the program is 1.62838543406463\n"
     ]
    }
   ],
   "source": [
    "generator.approximate_num()"
   ]
  },
  {
   "cell_type": "code",
   "execution_count": 45,
   "id": "4a517dfd",
   "metadata": {},
   "outputs": [
    {
     "ename": "NameError",
     "evalue": "name 'exp' is not defined",
     "output_type": "error",
     "traceback": [
      "\u001b[1;31m---------------------------------------------------------------------------\u001b[0m",
      "\u001b[1;31mNameError\u001b[0m                                 Traceback (most recent call last)",
      "Input \u001b[1;32mIn [45]\u001b[0m, in \u001b[0;36m<cell line: 1>\u001b[1;34m()\u001b[0m\n\u001b[1;32m----> 1\u001b[0m \u001b[43mexp\u001b[49m\n",
      "\u001b[1;31mNameError\u001b[0m: name 'exp' is not defined"
     ]
    }
   ],
   "source": [
    "\n",
    "exp"
   ]
  },
  {
   "cell_type": "code",
   "execution_count": 39,
   "id": "41ddef1c",
   "metadata": {},
   "outputs": [
    {
     "data": {
      "text/latex": [
       "$\\displaystyle 1.41773150699785$"
      ],
      "text/plain": [
       "1.41773150699785"
      ]
     },
     "execution_count": 39,
     "metadata": {},
     "output_type": "execute_result"
    }
   ],
   "source": [
    "exp.subs(x,0.01)"
   ]
  },
  {
   "cell_type": "code",
   "execution_count": 40,
   "id": "fbfa4257",
   "metadata": {},
   "outputs": [
    {
     "data": {
      "text/plain": [
       "2.0"
      ]
     },
     "execution_count": 40,
     "metadata": {},
     "output_type": "execute_result"
    }
   ],
   "source": [
    "2/1"
   ]
  },
  {
   "cell_type": "code",
   "execution_count": 41,
   "id": "a8560159",
   "metadata": {},
   "outputs": [
    {
     "data": {
      "text/plain": [
       "float"
      ]
     },
     "execution_count": 41,
     "metadata": {},
     "output_type": "execute_result"
    }
   ],
   "source": [
    "type(2/1)"
   ]
  },
  {
   "cell_type": "code",
   "execution_count": 43,
   "id": "6401f9e0",
   "metadata": {},
   "outputs": [],
   "source": [
    "exp = 2 + 0.5*x"
   ]
  },
  {
   "cell_type": "code",
   "execution_count": 44,
   "id": "23673772",
   "metadata": {},
   "outputs": [
    {
     "data": {
      "text/latex": [
       "$\\displaystyle 0.5 x + 2$"
      ],
      "text/plain": [
       "0.5*x + 2"
      ]
     },
     "execution_count": 44,
     "metadata": {},
     "output_type": "execute_result"
    }
   ],
   "source": [
    "exp"
   ]
  },
  {
   "cell_type": "code",
   "execution_count": 45,
   "id": "7ef582de",
   "metadata": {},
   "outputs": [
    {
     "data": {
      "text/plain": [
       "[-4.00000000000000]"
      ]
     },
     "execution_count": 45,
     "metadata": {},
     "output_type": "execute_result"
    }
   ],
   "source": [
    "smp.solve(exp)"
   ]
  },
  {
   "cell_type": "code",
   "execution_count": 47,
   "id": "9c47e922",
   "metadata": {},
   "outputs": [],
   "source": [
    "import random"
   ]
  },
  {
   "cell_type": "code",
   "execution_count": 59,
   "id": "c981637e",
   "metadata": {},
   "outputs": [
    {
     "data": {
      "text/plain": [
       "-0.35"
      ]
     },
     "execution_count": 59,
     "metadata": {},
     "output_type": "execute_result"
    }
   ],
   "source": [
    "round(random.uniform(-1,1),2)"
   ]
  },
  {
   "cell_type": "code",
   "execution_count": null,
   "id": "216dbe75",
   "metadata": {},
   "outputs": [],
   "source": []
  }
 ],
 "metadata": {
  "kernelspec": {
   "display_name": "Python 3 (ipykernel)",
   "language": "python",
   "name": "python3"
  },
  "language_info": {
   "codemirror_mode": {
    "name": "ipython",
    "version": 3
   },
   "file_extension": ".py",
   "mimetype": "text/x-python",
   "name": "python",
   "nbconvert_exporter": "python",
   "pygments_lexer": "ipython3",
   "version": "3.9.12"
  }
 },
 "nbformat": 4,
 "nbformat_minor": 5
}
